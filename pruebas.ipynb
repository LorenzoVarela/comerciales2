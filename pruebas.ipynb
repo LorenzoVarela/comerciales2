{
 "cells": [
  {
   "cell_type": "code",
   "execution_count": 1,
   "metadata": {},
   "outputs": [],
   "source": [
    "from dash import dcc, html\n",
    "from dash.dependencies import Input, Output\n",
    "from urllib.parse import parse_qs\n",
    "\n",
    "from procesos.comerciales import *\n",
    "from procesos.ficheros import leer_comerciales\n"
   ]
  },
  {
   "cell_type": "code",
   "execution_count": 2,
   "metadata": {},
   "outputs": [
    {
     "name": "stdout",
     "output_type": "stream",
     "text": [
      "Estamos leyendo fichero\n",
      "Primera lectura\n",
      "procesamos DF\n"
     ]
    }
   ],
   "source": [
    "ventas = None\n",
    "ventas = leer_comerciales(\"c:\\datos\\[OPORT021]_Oportunidades_con_multiples_filtros_RAW.xls\", ventas)\n",
    "print('Primera lectura')\n",
    "ventas = preprocesar(ventas)"
   ]
  },
  {
   "cell_type": "code",
   "execution_count": 3,
   "metadata": {},
   "outputs": [
    {
     "data": {
      "text/html": [
       "<div>\n",
       "<style scoped>\n",
       "    .dataframe tbody tr th:only-of-type {\n",
       "        vertical-align: middle;\n",
       "    }\n",
       "\n",
       "    .dataframe tbody tr th {\n",
       "        vertical-align: top;\n",
       "    }\n",
       "\n",
       "    .dataframe thead th {\n",
       "        text-align: right;\n",
       "    }\n",
       "</style>\n",
       "<table border=\"1\" class=\"dataframe\">\n",
       "  <thead>\n",
       "    <tr style=\"text-align: right;\">\n",
       "      <th></th>\n",
       "      <th>Comercial</th>\n",
       "      <th>Cliente</th>\n",
       "      <th>Oportunidad</th>\n",
       "      <th>Estado</th>\n",
       "      <th>Motivos</th>\n",
       "      <th>ObservacionesMotivo</th>\n",
       "      <th>Avance</th>\n",
       "      <th>Probabilidad</th>\n",
       "      <th>Importeprevisto</th>\n",
       "      <th>Duraciónmeses</th>\n",
       "      <th>...</th>\n",
       "      <th>CódigoLead</th>\n",
       "      <th>Tiposdeservicio</th>\n",
       "      <th>Solución</th>\n",
       "      <th>Lead</th>\n",
       "      <th>GeneraPipeline</th>\n",
       "      <th>País</th>\n",
       "      <th>Importepond.LoB</th>\n",
       "      <th>Importepond.LoBenPipe</th>\n",
       "      <th>Fecha</th>\n",
       "      <th>Anualidad</th>\n",
       "    </tr>\n",
       "  </thead>\n",
       "  <tbody>\n",
       "    <tr>\n",
       "      <th>0</th>\n",
       "      <td>Pilar Gomez Navarro</td>\n",
       "      <td>[KIAM] KIA IBERIA S.L.U</td>\n",
       "      <td>[5013] Implantación JIRA</td>\n",
       "      <td>Cerrada y ganada</td>\n",
       "      <td>Solvencia técnica</td>\n",
       "      <td>Cliente muy contento con nuestros conocimiento...</td>\n",
       "      <td>2 - Elaboración de Propuesta</td>\n",
       "      <td>0.40</td>\n",
       "      <td>9640.00</td>\n",
       "      <td>1.0</td>\n",
       "      <td>...</td>\n",
       "      <td></td>\n",
       "      <td>Precio Cerrado</td>\n",
       "      <td>Sin solución</td>\n",
       "      <td>No</td>\n",
       "      <td>Sí</td>\n",
       "      <td>atEspaña</td>\n",
       "      <td></td>\n",
       "      <td></td>\n",
       "      <td>201806</td>\n",
       "      <td>2018</td>\n",
       "    </tr>\n",
       "    <tr>\n",
       "      <th>1</th>\n",
       "      <td>Pilar Gomez Navarro</td>\n",
       "      <td>[KIAM] KIA IBERIA S.L.U</td>\n",
       "      <td>[5014] Firma Electrónica en Tablet</td>\n",
       "      <td>Cerrada y ganada</td>\n",
       "      <td>Solvencia técnica</td>\n",
       "      <td>Solvencia técnica</td>\n",
       "      <td>3 - Presentada/Negociación</td>\n",
       "      <td>0.30</td>\n",
       "      <td>22500.00</td>\n",
       "      <td>3.0</td>\n",
       "      <td>...</td>\n",
       "      <td></td>\n",
       "      <td>Precio Cerrado</td>\n",
       "      <td>Sin solución</td>\n",
       "      <td>No</td>\n",
       "      <td>Sí</td>\n",
       "      <td>atEspaña</td>\n",
       "      <td></td>\n",
       "      <td></td>\n",
       "      <td>201806</td>\n",
       "      <td>2018</td>\n",
       "    </tr>\n",
       "    <tr>\n",
       "      <th>2</th>\n",
       "      <td>José María del Río Cebrián</td>\n",
       "      <td>[CTBN] Cáritas Diocesana de Barcelona</td>\n",
       "      <td>[5004] Gestión de Subvenciones con Jira</td>\n",
       "      <td>Cerrada y ganada</td>\n",
       "      <td>Somos los únicos en presentarnos, Solvencia té...</td>\n",
       "      <td></td>\n",
       "      <td>3 - Presentada/Negociación</td>\n",
       "      <td>0.25</td>\n",
       "      <td>9920.00</td>\n",
       "      <td>2.0</td>\n",
       "      <td>...</td>\n",
       "      <td></td>\n",
       "      <td>Precio Cerrado</td>\n",
       "      <td>Sin solución</td>\n",
       "      <td>No</td>\n",
       "      <td>Sí</td>\n",
       "      <td>atEspaña</td>\n",
       "      <td>9920</td>\n",
       "      <td>2480</td>\n",
       "      <td>201807</td>\n",
       "      <td>2018</td>\n",
       "    </tr>\n",
       "    <tr>\n",
       "      <th>3</th>\n",
       "      <td>Laura Casorran Garralaga</td>\n",
       "      <td>[IBVI] IBERCAJA VIDA COMPAÑÍA DE SEGUROS Y REA...</td>\n",
       "      <td>[5001] Análisis renovación del entorno informá...</td>\n",
       "      <td>Cerrada y perdida</td>\n",
       "      <td>Otros</td>\n",
       "      <td>Oportunidad para presentación servicios, a Ibe...</td>\n",
       "      <td>0 - Prospect</td>\n",
       "      <td>0.05</td>\n",
       "      <td>0.00</td>\n",
       "      <td>1.0</td>\n",
       "      <td>...</td>\n",
       "      <td></td>\n",
       "      <td>Precio Cerrado</td>\n",
       "      <td>Sin solución</td>\n",
       "      <td>No</td>\n",
       "      <td>No</td>\n",
       "      <td>atEspaña</td>\n",
       "      <td>0</td>\n",
       "      <td>0</td>\n",
       "      <td>201807</td>\n",
       "      <td>2018</td>\n",
       "    </tr>\n",
       "    <tr>\n",
       "      <th>4</th>\n",
       "      <td>Miguel Angel Valiente Alvarez</td>\n",
       "      <td>[ECIN] El Corte Inglés S.A.</td>\n",
       "      <td>[5128] Servicio de Arquitectura de API Management</td>\n",
       "      <td>Cerrada y no presentada</td>\n",
       "      <td>Mantenimiento</td>\n",
       "      <td>La dirección decidió cerrar la oportunidad el ...</td>\n",
       "      <td>1 - Cualificación</td>\n",
       "      <td>0.60</td>\n",
       "      <td>140000.00</td>\n",
       "      <td>7.0</td>\n",
       "      <td>...</td>\n",
       "      <td></td>\n",
       "      <td>Precio Cerrado</td>\n",
       "      <td>Sin solución</td>\n",
       "      <td>No</td>\n",
       "      <td>Sí</td>\n",
       "      <td>atEspaña</td>\n",
       "      <td>140000</td>\n",
       "      <td>84000</td>\n",
       "      <td>201807</td>\n",
       "      <td>2018</td>\n",
       "    </tr>\n",
       "    <tr>\n",
       "      <th>5</th>\n",
       "      <td>Luis Ignacio García Valtuille</td>\n",
       "      <td>[ALSA] alsa</td>\n",
       "      <td>[5003] Bolsa Horas Atlassian</td>\n",
       "      <td>Cerrada y ganada</td>\n",
       "      <td>Solvencia técnica</td>\n",
       "      <td>Ampliacion de las labores de proyecto y horas ...</td>\n",
       "      <td>3 - Presentada/Negociación</td>\n",
       "      <td>0.50</td>\n",
       "      <td>10000.00</td>\n",
       "      <td>12.0</td>\n",
       "      <td>...</td>\n",
       "      <td></td>\n",
       "      <td>Precio Cerrado</td>\n",
       "      <td>Sin solución</td>\n",
       "      <td>No</td>\n",
       "      <td>Sí</td>\n",
       "      <td>atEspaña</td>\n",
       "      <td></td>\n",
       "      <td></td>\n",
       "      <td>201807</td>\n",
       "      <td>2018</td>\n",
       "    </tr>\n",
       "    <tr>\n",
       "      <th>6</th>\n",
       "      <td>Bernardo Blanco Zapata</td>\n",
       "      <td>[CION] CIONE</td>\n",
       "      <td>[5001] Implantación e integración de Magnolia ...</td>\n",
       "      <td>Cerrada y ganada</td>\n",
       "      <td>Solvencia técnica, Currículum del equipo prese...</td>\n",
       "      <td>En competencia con Deloitte y Vass,  el equipo...</td>\n",
       "      <td>3 - Presentada/Negociación</td>\n",
       "      <td>0.30</td>\n",
       "      <td>182365.00</td>\n",
       "      <td>7.0</td>\n",
       "      <td>...</td>\n",
       "      <td></td>\n",
       "      <td>Precio Cerrado</td>\n",
       "      <td>Sin solución</td>\n",
       "      <td>No</td>\n",
       "      <td>Sí</td>\n",
       "      <td>atEspaña</td>\n",
       "      <td></td>\n",
       "      <td></td>\n",
       "      <td>201807</td>\n",
       "      <td>2018</td>\n",
       "    </tr>\n",
       "    <tr>\n",
       "      <th>7</th>\n",
       "      <td>Oscar Muñoz Cabañas</td>\n",
       "      <td>[AEGO] AEGON ADMINISTRACION Y SERVICIOS, A.I.E.</td>\n",
       "      <td>[5048] Renovacion Atlassian SSO</td>\n",
       "      <td>Cerrada y ganada</td>\n",
       "      <td>Solvencia técnica</td>\n",
       "      <td>Renovacion atlassian SSO</td>\n",
       "      <td>3 - Presentada/Negociación</td>\n",
       "      <td>0.30</td>\n",
       "      <td>834.78</td>\n",
       "      <td>12.0</td>\n",
       "      <td>...</td>\n",
       "      <td></td>\n",
       "      <td>Venta Software</td>\n",
       "      <td>Sin solución</td>\n",
       "      <td>No</td>\n",
       "      <td>Sí</td>\n",
       "      <td>atEspaña</td>\n",
       "      <td></td>\n",
       "      <td></td>\n",
       "      <td>201807</td>\n",
       "      <td>2018</td>\n",
       "    </tr>\n",
       "    <tr>\n",
       "      <th>8</th>\n",
       "      <td>Oscar Muñoz Cabañas</td>\n",
       "      <td>[OFCU] UNIVERSITAS XXI, Soluciones y Tecnologí...</td>\n",
       "      <td>[5106] Evolucion empaquetado</td>\n",
       "      <td>Cerrada y ganada</td>\n",
       "      <td>Somos los únicos en presentarnos, Solvencia té...</td>\n",
       "      <td>Conocemos muy bien el sistema de empaquetado p...</td>\n",
       "      <td>3 - Presentada/Negociación</td>\n",
       "      <td>0.30</td>\n",
       "      <td>11520.00</td>\n",
       "      <td>2.0</td>\n",
       "      <td>...</td>\n",
       "      <td></td>\n",
       "      <td>Precio Cerrado</td>\n",
       "      <td>Sin solución</td>\n",
       "      <td>No</td>\n",
       "      <td>Sí</td>\n",
       "      <td>atEspaña</td>\n",
       "      <td></td>\n",
       "      <td></td>\n",
       "      <td>201807</td>\n",
       "      <td>2018</td>\n",
       "    </tr>\n",
       "    <tr>\n",
       "      <th>9</th>\n",
       "      <td>Bernardo Blanco Zapata</td>\n",
       "      <td>[BUPA] BUPA Investments Overseas Limited Sucursal</td>\n",
       "      <td>[5012] Mi Salud Bucodental_Dental Anamnesis</td>\n",
       "      <td>Cerrada y perdida</td>\n",
       "      <td>Precio algo mayor que la oferta ganadora</td>\n",
       "      <td>Se la otorgan a un proveedor que ya ha trabaja...</td>\n",
       "      <td>2 - Elaboración de Propuesta</td>\n",
       "      <td>0.30</td>\n",
       "      <td>10000.00</td>\n",
       "      <td>1.0</td>\n",
       "      <td>...</td>\n",
       "      <td></td>\n",
       "      <td>Precio Cerrado</td>\n",
       "      <td>Sin solución</td>\n",
       "      <td>No</td>\n",
       "      <td>Sí</td>\n",
       "      <td>atEspaña</td>\n",
       "      <td></td>\n",
       "      <td></td>\n",
       "      <td>201807</td>\n",
       "      <td>2018</td>\n",
       "    </tr>\n",
       "  </tbody>\n",
       "</table>\n",
       "<p>10 rows × 31 columns</p>\n",
       "</div>"
      ],
      "text/plain": [
       "                       Comercial  \\\n",
       "0            Pilar Gomez Navarro   \n",
       "1            Pilar Gomez Navarro   \n",
       "2     José María del Río Cebrián   \n",
       "3       Laura Casorran Garralaga   \n",
       "4  Miguel Angel Valiente Alvarez   \n",
       "5  Luis Ignacio García Valtuille   \n",
       "6         Bernardo Blanco Zapata   \n",
       "7            Oscar Muñoz Cabañas   \n",
       "8            Oscar Muñoz Cabañas   \n",
       "9         Bernardo Blanco Zapata   \n",
       "\n",
       "                                             Cliente  \\\n",
       "0                            [KIAM] KIA IBERIA S.L.U   \n",
       "1                            [KIAM] KIA IBERIA S.L.U   \n",
       "2              [CTBN] Cáritas Diocesana de Barcelona   \n",
       "3  [IBVI] IBERCAJA VIDA COMPAÑÍA DE SEGUROS Y REA...   \n",
       "4                        [ECIN] El Corte Inglés S.A.   \n",
       "5                                        [ALSA] alsa   \n",
       "6                                       [CION] CIONE   \n",
       "7    [AEGO] AEGON ADMINISTRACION Y SERVICIOS, A.I.E.   \n",
       "8  [OFCU] UNIVERSITAS XXI, Soluciones y Tecnologí...   \n",
       "9  [BUPA] BUPA Investments Overseas Limited Sucursal   \n",
       "\n",
       "                                         Oportunidad                   Estado  \\\n",
       "0                           [5013] Implantación JIRA         Cerrada y ganada   \n",
       "1                 [5014] Firma Electrónica en Tablet         Cerrada y ganada   \n",
       "2            [5004] Gestión de Subvenciones con Jira         Cerrada y ganada   \n",
       "3  [5001] Análisis renovación del entorno informá...        Cerrada y perdida   \n",
       "4  [5128] Servicio de Arquitectura de API Management  Cerrada y no presentada   \n",
       "5                       [5003] Bolsa Horas Atlassian         Cerrada y ganada   \n",
       "6  [5001] Implantación e integración de Magnolia ...         Cerrada y ganada   \n",
       "7                    [5048] Renovacion Atlassian SSO         Cerrada y ganada   \n",
       "8                       [5106] Evolucion empaquetado         Cerrada y ganada   \n",
       "9        [5012] Mi Salud Bucodental_Dental Anamnesis        Cerrada y perdida   \n",
       "\n",
       "                                             Motivos  \\\n",
       "0                                  Solvencia técnica   \n",
       "1                                  Solvencia técnica   \n",
       "2  Somos los únicos en presentarnos, Solvencia té...   \n",
       "3                                              Otros   \n",
       "4                                      Mantenimiento   \n",
       "5                                  Solvencia técnica   \n",
       "6  Solvencia técnica, Currículum del equipo prese...   \n",
       "7                                  Solvencia técnica   \n",
       "8  Somos los únicos en presentarnos, Solvencia té...   \n",
       "9           Precio algo mayor que la oferta ganadora   \n",
       "\n",
       "                                 ObservacionesMotivo  \\\n",
       "0  Cliente muy contento con nuestros conocimiento...   \n",
       "1                                  Solvencia técnica   \n",
       "2                                                      \n",
       "3  Oportunidad para presentación servicios, a Ibe...   \n",
       "4  La dirección decidió cerrar la oportunidad el ...   \n",
       "5  Ampliacion de las labores de proyecto y horas ...   \n",
       "6  En competencia con Deloitte y Vass,  el equipo...   \n",
       "7                           Renovacion atlassian SSO   \n",
       "8  Conocemos muy bien el sistema de empaquetado p...   \n",
       "9  Se la otorgan a un proveedor que ya ha trabaja...   \n",
       "\n",
       "                         Avance  Probabilidad  Importeprevisto  Duraciónmeses  \\\n",
       "0  2 - Elaboración de Propuesta          0.40          9640.00            1.0   \n",
       "1    3 - Presentada/Negociación          0.30         22500.00            3.0   \n",
       "2    3 - Presentada/Negociación          0.25          9920.00            2.0   \n",
       "3                  0 - Prospect          0.05             0.00            1.0   \n",
       "4             1 - Cualificación          0.60        140000.00            7.0   \n",
       "5    3 - Presentada/Negociación          0.50         10000.00           12.0   \n",
       "6    3 - Presentada/Negociación          0.30        182365.00            7.0   \n",
       "7    3 - Presentada/Negociación          0.30           834.78           12.0   \n",
       "8    3 - Presentada/Negociación          0.30         11520.00            2.0   \n",
       "9  2 - Elaboración de Propuesta          0.30         10000.00            1.0   \n",
       "\n",
       "   ... CódigoLead Tiposdeservicio      Solución Lead GeneraPipeline      País  \\\n",
       "0  ...             Precio Cerrado  Sin solución   No             Sí  atEspaña   \n",
       "1  ...             Precio Cerrado  Sin solución   No             Sí  atEspaña   \n",
       "2  ...             Precio Cerrado  Sin solución   No             Sí  atEspaña   \n",
       "3  ...             Precio Cerrado  Sin solución   No             No  atEspaña   \n",
       "4  ...             Precio Cerrado  Sin solución   No             Sí  atEspaña   \n",
       "5  ...             Precio Cerrado  Sin solución   No             Sí  atEspaña   \n",
       "6  ...             Precio Cerrado  Sin solución   No             Sí  atEspaña   \n",
       "7  ...             Venta Software  Sin solución   No             Sí  atEspaña   \n",
       "8  ...             Precio Cerrado  Sin solución   No             Sí  atEspaña   \n",
       "9  ...             Precio Cerrado  Sin solución   No             Sí  atEspaña   \n",
       "\n",
       "  Importepond.LoB Importepond.LoBenPipe   Fecha Anualidad  \n",
       "0                                        201806      2018  \n",
       "1                                        201806      2018  \n",
       "2            9920                  2480  201807      2018  \n",
       "3               0                     0  201807      2018  \n",
       "4          140000                 84000  201807      2018  \n",
       "5                                        201807      2018  \n",
       "6                                        201807      2018  \n",
       "7                                        201807      2018  \n",
       "8                                        201807      2018  \n",
       "9                                        201807      2018  \n",
       "\n",
       "[10 rows x 31 columns]"
      ]
     },
     "execution_count": 3,
     "metadata": {},
     "output_type": "execute_result"
    }
   ],
   "source": [
    "ventas.head(10)"
   ]
  },
  {
   "cell_type": "code",
   "execution_count": 11,
   "metadata": {},
   "outputs": [
    {
     "name": "stdout",
     "output_type": "stream",
     "text": [
      "<class 'pandas.core.frame.DataFrame'>\n",
      "Index: 246 entries, 0 to 245\n",
      "Data columns (total 32 columns):\n",
      " #   Column                  Non-Null Count  Dtype         \n",
      "---  ------                  --------------  -----         \n",
      " 0   index                   246 non-null    int64         \n",
      " 1   Comercial               246 non-null    object        \n",
      " 2   Cliente                 246 non-null    object        \n",
      " 3   Oportunidad             246 non-null    object        \n",
      " 4   Estado                  246 non-null    object        \n",
      " 5   Motivos                 246 non-null    object        \n",
      " 6   ObservacionesMotivo     246 non-null    object        \n",
      " 7   Avance                  246 non-null    object        \n",
      " 8   Probabilidad            246 non-null    float64       \n",
      " 9   Importeprevisto         246 non-null    float64       \n",
      " 10  Duraciónmeses           246 non-null    float64       \n",
      " 11  Fechacreación           246 non-null    datetime64[ns]\n",
      " 12  Fechamodificación       246 non-null    datetime64[ns]\n",
      " 13  Fechadeinicioprevista   246 non-null    datetime64[ns]\n",
      " 14  Fechalímitedeentrega    246 non-null    datetime64[ns]\n",
      " 15  Observaciones           246 non-null    object        \n",
      " 16  LíneasdeNegocio         246 non-null    object        \n",
      " 17  Porcentajedeasignación  246 non-null    object        \n",
      " 18  EntornosTecnológicos    246 non-null    object        \n",
      " 19  Tipos                   246 non-null    object        \n",
      " 20  Preventa                246 non-null    object        \n",
      " 21  Bdms                    246 non-null    int64         \n",
      " 22  CódigoLead              246 non-null    object        \n",
      " 23  Tiposdeservicio         246 non-null    object        \n",
      " 24  Solución                246 non-null    object        \n",
      " 25  Lead                    246 non-null    object        \n",
      " 26  GeneraPipeline          246 non-null    object        \n",
      " 27  País                    246 non-null    object        \n",
      " 28  Importepond.LoB         246 non-null    object        \n",
      " 29  Importepond.LoBenPipe   246 non-null    object        \n",
      " 30  Fecha                   246 non-null    object        \n",
      " 31  Anualidad               246 non-null    int32         \n",
      "dtypes: datetime64[ns](4), float64(3), int32(1), int64(2), object(22)\n",
      "memory usage: 62.5+ KB\n"
     ]
    }
   ],
   "source": [
    "nombre_comercial = \"Andreu Blancas Sanchez\"\n",
    "fechas_df = comercial_fechas(ventas, nombre_comercial)\n",
    "fechas_df.info()"
   ]
  },
  {
   "cell_type": "code",
   "execution_count": 12,
   "metadata": {},
   "outputs": [
    {
     "data": {
      "text/html": [
       "<div>\n",
       "<style scoped>\n",
       "    .dataframe tbody tr th:only-of-type {\n",
       "        vertical-align: middle;\n",
       "    }\n",
       "\n",
       "    .dataframe tbody tr th {\n",
       "        vertical-align: top;\n",
       "    }\n",
       "\n",
       "    .dataframe thead th {\n",
       "        text-align: right;\n",
       "    }\n",
       "</style>\n",
       "<table border=\"1\" class=\"dataframe\">\n",
       "  <thead>\n",
       "    <tr style=\"text-align: right;\">\n",
       "      <th></th>\n",
       "      <th>index</th>\n",
       "      <th>Tiposdeservicio</th>\n",
       "      <th>Anualidad</th>\n",
       "      <th>Importeprevisto</th>\n",
       "    </tr>\n",
       "  </thead>\n",
       "  <tbody>\n",
       "    <tr>\n",
       "      <th>0</th>\n",
       "      <td>0</td>\n",
       "      <td>Bolsa de Horas</td>\n",
       "      <td>2020</td>\n",
       "      <td>26600.00</td>\n",
       "    </tr>\n",
       "    <tr>\n",
       "      <th>1</th>\n",
       "      <td>1</td>\n",
       "      <td>Bolsa de Horas</td>\n",
       "      <td>2021</td>\n",
       "      <td>36450.49</td>\n",
       "    </tr>\n",
       "    <tr>\n",
       "      <th>2</th>\n",
       "      <td>2</td>\n",
       "      <td>Bolsa de Horas</td>\n",
       "      <td>2022</td>\n",
       "      <td>38500.00</td>\n",
       "    </tr>\n",
       "    <tr>\n",
       "      <th>3</th>\n",
       "      <td>3</td>\n",
       "      <td>Bolsa de Horas</td>\n",
       "      <td>2023</td>\n",
       "      <td>26800.00</td>\n",
       "    </tr>\n",
       "    <tr>\n",
       "      <th>4</th>\n",
       "      <td>4</td>\n",
       "      <td>Formación</td>\n",
       "      <td>2020</td>\n",
       "      <td>18500.00</td>\n",
       "    </tr>\n",
       "    <tr>\n",
       "      <th>5</th>\n",
       "      <td>5</td>\n",
       "      <td>Formación</td>\n",
       "      <td>2021</td>\n",
       "      <td>2352.00</td>\n",
       "    </tr>\n",
       "    <tr>\n",
       "      <th>6</th>\n",
       "      <td>6</td>\n",
       "      <td>Gestionado</td>\n",
       "      <td>2019</td>\n",
       "      <td>5000.00</td>\n",
       "    </tr>\n",
       "    <tr>\n",
       "      <th>7</th>\n",
       "      <td>7</td>\n",
       "      <td>Gestionado</td>\n",
       "      <td>2020</td>\n",
       "      <td>37600.00</td>\n",
       "    </tr>\n",
       "    <tr>\n",
       "      <th>8</th>\n",
       "      <td>8</td>\n",
       "      <td>Gestionado</td>\n",
       "      <td>2021</td>\n",
       "      <td>92187.00</td>\n",
       "    </tr>\n",
       "    <tr>\n",
       "      <th>9</th>\n",
       "      <td>9</td>\n",
       "      <td>Gestionado</td>\n",
       "      <td>2022</td>\n",
       "      <td>0.00</td>\n",
       "    </tr>\n",
       "  </tbody>\n",
       "</table>\n",
       "</div>"
      ],
      "text/plain": [
       "   index Tiposdeservicio  Anualidad  Importeprevisto\n",
       "0      0  Bolsa de Horas       2020         26600.00\n",
       "1      1  Bolsa de Horas       2021         36450.49\n",
       "2      2  Bolsa de Horas       2022         38500.00\n",
       "3      3  Bolsa de Horas       2023         26800.00\n",
       "4      4       Formación       2020         18500.00\n",
       "5      5       Formación       2021          2352.00\n",
       "6      6      Gestionado       2019          5000.00\n",
       "7      7      Gestionado       2020         37600.00\n",
       "8      8      Gestionado       2021         92187.00\n",
       "9      9      Gestionado       2022             0.00"
      ]
     },
     "execution_count": 12,
     "metadata": {},
     "output_type": "execute_result"
    }
   ],
   "source": [
    "def tipo_servicio_contrato(ventas, nombre):\n",
    "    # agrupamos, para un comercial los tipos de servicio\n",
    "    ventas_cerradas = pd.DataFrame(ventas[(ventas['Comercial'] == nombre) & (ventas['Estado'] == 'Cerrada y ganada')])\n",
    "    nuevo_df = ventas_cerradas.groupby(['Tiposdeservicio', 'Anualidad'])['Importeprevisto'].sum().reset_index()\n",
    "    nuevo_df.reset_index(inplace=True)\n",
    "    nuevo_df.columns.name = None\n",
    "    nuevo_df = nuevo_df.fillna(0)\n",
    "\n",
    "    return nuevo_df\n",
    "\n",
    "\n",
    "\n",
    "tipo_servicio = tipo_servicio_contrato(ventas, nombre_comercial)\n",
    "tipo_servicio.head(10)"
   ]
  },
  {
   "cell_type": "code",
   "execution_count": 13,
   "metadata": {},
   "outputs": [
    {
     "data": {
      "application/vnd.plotly.v1+json": {
       "config": {
        "plotlyServerURL": "https://plot.ly"
       },
       "data": [
        {
         "alignmentgroup": "True",
         "hovertemplate": "Tiposdeservicio=%{text}<br>Anualidad=%{x}<br>Importeprevisto=%{y}<extra></extra>",
         "legendgroup": "Bolsa de Horas",
         "marker": {
          "color": "#636efa",
          "pattern": {
           "shape": ""
          }
         },
         "name": "Bolsa de Horas",
         "offsetgroup": "Bolsa de Horas",
         "orientation": "v",
         "showlegend": true,
         "text": [
          "Bolsa de Horas",
          "Bolsa de Horas",
          "Bolsa de Horas",
          "Bolsa de Horas"
         ],
         "textposition": "auto",
         "type": "bar",
         "x": [
          2020,
          2021,
          2022,
          2023
         ],
         "xaxis": "x",
         "y": [
          26600,
          36450.49,
          38500,
          26800
         ],
         "yaxis": "y"
        },
        {
         "alignmentgroup": "True",
         "hovertemplate": "Tiposdeservicio=%{text}<br>Anualidad=%{x}<br>Importeprevisto=%{y}<extra></extra>",
         "legendgroup": "Formación",
         "marker": {
          "color": "#EF553B",
          "pattern": {
           "shape": ""
          }
         },
         "name": "Formación",
         "offsetgroup": "Formación",
         "orientation": "v",
         "showlegend": true,
         "text": [
          "Formación",
          "Formación"
         ],
         "textposition": "auto",
         "type": "bar",
         "x": [
          2020,
          2021
         ],
         "xaxis": "x",
         "y": [
          18500,
          2352
         ],
         "yaxis": "y"
        },
        {
         "alignmentgroup": "True",
         "hovertemplate": "Tiposdeservicio=%{text}<br>Anualidad=%{x}<br>Importeprevisto=%{y}<extra></extra>",
         "legendgroup": "Gestionado",
         "marker": {
          "color": "#00cc96",
          "pattern": {
           "shape": ""
          }
         },
         "name": "Gestionado",
         "offsetgroup": "Gestionado",
         "orientation": "v",
         "showlegend": true,
         "text": [
          "Gestionado",
          "Gestionado",
          "Gestionado",
          "Gestionado",
          "Gestionado"
         ],
         "textposition": "auto",
         "type": "bar",
         "x": [
          2019,
          2020,
          2021,
          2022,
          2023
         ],
         "xaxis": "x",
         "y": [
          5000,
          37600,
          92187,
          0,
          47901
         ],
         "yaxis": "y"
        },
        {
         "alignmentgroup": "True",
         "hovertemplate": "Tiposdeservicio=%{text}<br>Anualidad=%{x}<br>Importeprevisto=%{y}<extra></extra>",
         "legendgroup": "Precio Cerrado",
         "marker": {
          "color": "#ab63fa",
          "pattern": {
           "shape": ""
          }
         },
         "name": "Precio Cerrado",
         "offsetgroup": "Precio Cerrado",
         "orientation": "v",
         "showlegend": true,
         "text": [
          "Precio Cerrado",
          "Precio Cerrado",
          "Precio Cerrado",
          "Precio Cerrado",
          "Precio Cerrado",
          "Precio Cerrado"
         ],
         "textposition": "auto",
         "type": "bar",
         "x": [
          2018,
          2019,
          2020,
          2021,
          2022,
          2023
         ],
         "xaxis": "x",
         "y": [
          49880,
          456115.4,
          140825,
          139108.86,
          346395,
          46135
         ],
         "yaxis": "y"
        },
        {
         "alignmentgroup": "True",
         "hovertemplate": "Tiposdeservicio=%{text}<br>Anualidad=%{x}<br>Importeprevisto=%{y}<extra></extra>",
         "legendgroup": "Time and Material",
         "marker": {
          "color": "#FFA15A",
          "pattern": {
           "shape": ""
          }
         },
         "name": "Time and Material",
         "offsetgroup": "Time and Material",
         "orientation": "v",
         "showlegend": true,
         "text": [
          "Time and Material",
          "Time and Material",
          "Time and Material",
          "Time and Material",
          "Time and Material"
         ],
         "textposition": "auto",
         "type": "bar",
         "x": [
          2019,
          2020,
          2021,
          2022,
          2023
         ],
         "xaxis": "x",
         "y": [
          10000,
          130000,
          26595,
          68640,
          59584
         ],
         "yaxis": "y"
        },
        {
         "alignmentgroup": "True",
         "hovertemplate": "Tiposdeservicio=%{text}<br>Anualidad=%{x}<br>Importeprevisto=%{y}<extra></extra>",
         "legendgroup": "Venta Software",
         "marker": {
          "color": "#19d3f3",
          "pattern": {
           "shape": ""
          }
         },
         "name": "Venta Software",
         "offsetgroup": "Venta Software",
         "orientation": "v",
         "showlegend": true,
         "text": [
          "Venta Software",
          "Venta Software",
          "Venta Software",
          "Venta Software",
          "Venta Software",
          "Venta Software"
         ],
         "textposition": "auto",
         "type": "bar",
         "x": [
          2018,
          2019,
          2020,
          2021,
          2022,
          2023
         ],
         "xaxis": "x",
         "y": [
          116734,
          236067.5,
          234181,
          333610.14,
          355063.11,
          79291
         ],
         "yaxis": "y"
        }
       ],
       "layout": {
        "barmode": "relative",
        "legend": {
         "title": {
          "text": "Tiposdeservicio"
         },
         "tracegroupgap": 0
        },
        "template": {
         "data": {
          "bar": [
           {
            "error_x": {
             "color": "#2a3f5f"
            },
            "error_y": {
             "color": "#2a3f5f"
            },
            "marker": {
             "line": {
              "color": "#E5ECF6",
              "width": 0.5
             },
             "pattern": {
              "fillmode": "overlay",
              "size": 10,
              "solidity": 0.2
             }
            },
            "type": "bar"
           }
          ],
          "barpolar": [
           {
            "marker": {
             "line": {
              "color": "#E5ECF6",
              "width": 0.5
             },
             "pattern": {
              "fillmode": "overlay",
              "size": 10,
              "solidity": 0.2
             }
            },
            "type": "barpolar"
           }
          ],
          "carpet": [
           {
            "aaxis": {
             "endlinecolor": "#2a3f5f",
             "gridcolor": "white",
             "linecolor": "white",
             "minorgridcolor": "white",
             "startlinecolor": "#2a3f5f"
            },
            "baxis": {
             "endlinecolor": "#2a3f5f",
             "gridcolor": "white",
             "linecolor": "white",
             "minorgridcolor": "white",
             "startlinecolor": "#2a3f5f"
            },
            "type": "carpet"
           }
          ],
          "choropleth": [
           {
            "colorbar": {
             "outlinewidth": 0,
             "ticks": ""
            },
            "type": "choropleth"
           }
          ],
          "contour": [
           {
            "colorbar": {
             "outlinewidth": 0,
             "ticks": ""
            },
            "colorscale": [
             [
              0,
              "#0d0887"
             ],
             [
              0.1111111111111111,
              "#46039f"
             ],
             [
              0.2222222222222222,
              "#7201a8"
             ],
             [
              0.3333333333333333,
              "#9c179e"
             ],
             [
              0.4444444444444444,
              "#bd3786"
             ],
             [
              0.5555555555555556,
              "#d8576b"
             ],
             [
              0.6666666666666666,
              "#ed7953"
             ],
             [
              0.7777777777777778,
              "#fb9f3a"
             ],
             [
              0.8888888888888888,
              "#fdca26"
             ],
             [
              1,
              "#f0f921"
             ]
            ],
            "type": "contour"
           }
          ],
          "contourcarpet": [
           {
            "colorbar": {
             "outlinewidth": 0,
             "ticks": ""
            },
            "type": "contourcarpet"
           }
          ],
          "heatmap": [
           {
            "colorbar": {
             "outlinewidth": 0,
             "ticks": ""
            },
            "colorscale": [
             [
              0,
              "#0d0887"
             ],
             [
              0.1111111111111111,
              "#46039f"
             ],
             [
              0.2222222222222222,
              "#7201a8"
             ],
             [
              0.3333333333333333,
              "#9c179e"
             ],
             [
              0.4444444444444444,
              "#bd3786"
             ],
             [
              0.5555555555555556,
              "#d8576b"
             ],
             [
              0.6666666666666666,
              "#ed7953"
             ],
             [
              0.7777777777777778,
              "#fb9f3a"
             ],
             [
              0.8888888888888888,
              "#fdca26"
             ],
             [
              1,
              "#f0f921"
             ]
            ],
            "type": "heatmap"
           }
          ],
          "heatmapgl": [
           {
            "colorbar": {
             "outlinewidth": 0,
             "ticks": ""
            },
            "colorscale": [
             [
              0,
              "#0d0887"
             ],
             [
              0.1111111111111111,
              "#46039f"
             ],
             [
              0.2222222222222222,
              "#7201a8"
             ],
             [
              0.3333333333333333,
              "#9c179e"
             ],
             [
              0.4444444444444444,
              "#bd3786"
             ],
             [
              0.5555555555555556,
              "#d8576b"
             ],
             [
              0.6666666666666666,
              "#ed7953"
             ],
             [
              0.7777777777777778,
              "#fb9f3a"
             ],
             [
              0.8888888888888888,
              "#fdca26"
             ],
             [
              1,
              "#f0f921"
             ]
            ],
            "type": "heatmapgl"
           }
          ],
          "histogram": [
           {
            "marker": {
             "pattern": {
              "fillmode": "overlay",
              "size": 10,
              "solidity": 0.2
             }
            },
            "type": "histogram"
           }
          ],
          "histogram2d": [
           {
            "colorbar": {
             "outlinewidth": 0,
             "ticks": ""
            },
            "colorscale": [
             [
              0,
              "#0d0887"
             ],
             [
              0.1111111111111111,
              "#46039f"
             ],
             [
              0.2222222222222222,
              "#7201a8"
             ],
             [
              0.3333333333333333,
              "#9c179e"
             ],
             [
              0.4444444444444444,
              "#bd3786"
             ],
             [
              0.5555555555555556,
              "#d8576b"
             ],
             [
              0.6666666666666666,
              "#ed7953"
             ],
             [
              0.7777777777777778,
              "#fb9f3a"
             ],
             [
              0.8888888888888888,
              "#fdca26"
             ],
             [
              1,
              "#f0f921"
             ]
            ],
            "type": "histogram2d"
           }
          ],
          "histogram2dcontour": [
           {
            "colorbar": {
             "outlinewidth": 0,
             "ticks": ""
            },
            "colorscale": [
             [
              0,
              "#0d0887"
             ],
             [
              0.1111111111111111,
              "#46039f"
             ],
             [
              0.2222222222222222,
              "#7201a8"
             ],
             [
              0.3333333333333333,
              "#9c179e"
             ],
             [
              0.4444444444444444,
              "#bd3786"
             ],
             [
              0.5555555555555556,
              "#d8576b"
             ],
             [
              0.6666666666666666,
              "#ed7953"
             ],
             [
              0.7777777777777778,
              "#fb9f3a"
             ],
             [
              0.8888888888888888,
              "#fdca26"
             ],
             [
              1,
              "#f0f921"
             ]
            ],
            "type": "histogram2dcontour"
           }
          ],
          "mesh3d": [
           {
            "colorbar": {
             "outlinewidth": 0,
             "ticks": ""
            },
            "type": "mesh3d"
           }
          ],
          "parcoords": [
           {
            "line": {
             "colorbar": {
              "outlinewidth": 0,
              "ticks": ""
             }
            },
            "type": "parcoords"
           }
          ],
          "pie": [
           {
            "automargin": true,
            "type": "pie"
           }
          ],
          "scatter": [
           {
            "fillpattern": {
             "fillmode": "overlay",
             "size": 10,
             "solidity": 0.2
            },
            "type": "scatter"
           }
          ],
          "scatter3d": [
           {
            "line": {
             "colorbar": {
              "outlinewidth": 0,
              "ticks": ""
             }
            },
            "marker": {
             "colorbar": {
              "outlinewidth": 0,
              "ticks": ""
             }
            },
            "type": "scatter3d"
           }
          ],
          "scattercarpet": [
           {
            "marker": {
             "colorbar": {
              "outlinewidth": 0,
              "ticks": ""
             }
            },
            "type": "scattercarpet"
           }
          ],
          "scattergeo": [
           {
            "marker": {
             "colorbar": {
              "outlinewidth": 0,
              "ticks": ""
             }
            },
            "type": "scattergeo"
           }
          ],
          "scattergl": [
           {
            "marker": {
             "colorbar": {
              "outlinewidth": 0,
              "ticks": ""
             }
            },
            "type": "scattergl"
           }
          ],
          "scattermapbox": [
           {
            "marker": {
             "colorbar": {
              "outlinewidth": 0,
              "ticks": ""
             }
            },
            "type": "scattermapbox"
           }
          ],
          "scatterpolar": [
           {
            "marker": {
             "colorbar": {
              "outlinewidth": 0,
              "ticks": ""
             }
            },
            "type": "scatterpolar"
           }
          ],
          "scatterpolargl": [
           {
            "marker": {
             "colorbar": {
              "outlinewidth": 0,
              "ticks": ""
             }
            },
            "type": "scatterpolargl"
           }
          ],
          "scatterternary": [
           {
            "marker": {
             "colorbar": {
              "outlinewidth": 0,
              "ticks": ""
             }
            },
            "type": "scatterternary"
           }
          ],
          "surface": [
           {
            "colorbar": {
             "outlinewidth": 0,
             "ticks": ""
            },
            "colorscale": [
             [
              0,
              "#0d0887"
             ],
             [
              0.1111111111111111,
              "#46039f"
             ],
             [
              0.2222222222222222,
              "#7201a8"
             ],
             [
              0.3333333333333333,
              "#9c179e"
             ],
             [
              0.4444444444444444,
              "#bd3786"
             ],
             [
              0.5555555555555556,
              "#d8576b"
             ],
             [
              0.6666666666666666,
              "#ed7953"
             ],
             [
              0.7777777777777778,
              "#fb9f3a"
             ],
             [
              0.8888888888888888,
              "#fdca26"
             ],
             [
              1,
              "#f0f921"
             ]
            ],
            "type": "surface"
           }
          ],
          "table": [
           {
            "cells": {
             "fill": {
              "color": "#EBF0F8"
             },
             "line": {
              "color": "white"
             }
            },
            "header": {
             "fill": {
              "color": "#C8D4E3"
             },
             "line": {
              "color": "white"
             }
            },
            "type": "table"
           }
          ]
         },
         "layout": {
          "annotationdefaults": {
           "arrowcolor": "#2a3f5f",
           "arrowhead": 0,
           "arrowwidth": 1
          },
          "autotypenumbers": "strict",
          "coloraxis": {
           "colorbar": {
            "outlinewidth": 0,
            "ticks": ""
           }
          },
          "colorscale": {
           "diverging": [
            [
             0,
             "#8e0152"
            ],
            [
             0.1,
             "#c51b7d"
            ],
            [
             0.2,
             "#de77ae"
            ],
            [
             0.3,
             "#f1b6da"
            ],
            [
             0.4,
             "#fde0ef"
            ],
            [
             0.5,
             "#f7f7f7"
            ],
            [
             0.6,
             "#e6f5d0"
            ],
            [
             0.7,
             "#b8e186"
            ],
            [
             0.8,
             "#7fbc41"
            ],
            [
             0.9,
             "#4d9221"
            ],
            [
             1,
             "#276419"
            ]
           ],
           "sequential": [
            [
             0,
             "#0d0887"
            ],
            [
             0.1111111111111111,
             "#46039f"
            ],
            [
             0.2222222222222222,
             "#7201a8"
            ],
            [
             0.3333333333333333,
             "#9c179e"
            ],
            [
             0.4444444444444444,
             "#bd3786"
            ],
            [
             0.5555555555555556,
             "#d8576b"
            ],
            [
             0.6666666666666666,
             "#ed7953"
            ],
            [
             0.7777777777777778,
             "#fb9f3a"
            ],
            [
             0.8888888888888888,
             "#fdca26"
            ],
            [
             1,
             "#f0f921"
            ]
           ],
           "sequentialminus": [
            [
             0,
             "#0d0887"
            ],
            [
             0.1111111111111111,
             "#46039f"
            ],
            [
             0.2222222222222222,
             "#7201a8"
            ],
            [
             0.3333333333333333,
             "#9c179e"
            ],
            [
             0.4444444444444444,
             "#bd3786"
            ],
            [
             0.5555555555555556,
             "#d8576b"
            ],
            [
             0.6666666666666666,
             "#ed7953"
            ],
            [
             0.7777777777777778,
             "#fb9f3a"
            ],
            [
             0.8888888888888888,
             "#fdca26"
            ],
            [
             1,
             "#f0f921"
            ]
           ]
          },
          "colorway": [
           "#636efa",
           "#EF553B",
           "#00cc96",
           "#ab63fa",
           "#FFA15A",
           "#19d3f3",
           "#FF6692",
           "#B6E880",
           "#FF97FF",
           "#FECB52"
          ],
          "font": {
           "color": "#2a3f5f"
          },
          "geo": {
           "bgcolor": "white",
           "lakecolor": "white",
           "landcolor": "#E5ECF6",
           "showlakes": true,
           "showland": true,
           "subunitcolor": "white"
          },
          "hoverlabel": {
           "align": "left"
          },
          "hovermode": "closest",
          "mapbox": {
           "style": "light"
          },
          "paper_bgcolor": "white",
          "plot_bgcolor": "#E5ECF6",
          "polar": {
           "angularaxis": {
            "gridcolor": "white",
            "linecolor": "white",
            "ticks": ""
           },
           "bgcolor": "#E5ECF6",
           "radialaxis": {
            "gridcolor": "white",
            "linecolor": "white",
            "ticks": ""
           }
          },
          "scene": {
           "xaxis": {
            "backgroundcolor": "#E5ECF6",
            "gridcolor": "white",
            "gridwidth": 2,
            "linecolor": "white",
            "showbackground": true,
            "ticks": "",
            "zerolinecolor": "white"
           },
           "yaxis": {
            "backgroundcolor": "#E5ECF6",
            "gridcolor": "white",
            "gridwidth": 2,
            "linecolor": "white",
            "showbackground": true,
            "ticks": "",
            "zerolinecolor": "white"
           },
           "zaxis": {
            "backgroundcolor": "#E5ECF6",
            "gridcolor": "white",
            "gridwidth": 2,
            "linecolor": "white",
            "showbackground": true,
            "ticks": "",
            "zerolinecolor": "white"
           }
          },
          "shapedefaults": {
           "line": {
            "color": "#2a3f5f"
           }
          },
          "ternary": {
           "aaxis": {
            "gridcolor": "white",
            "linecolor": "white",
            "ticks": ""
           },
           "baxis": {
            "gridcolor": "white",
            "linecolor": "white",
            "ticks": ""
           },
           "bgcolor": "#E5ECF6",
           "caxis": {
            "gridcolor": "white",
            "linecolor": "white",
            "ticks": ""
           }
          },
          "title": {
           "x": 0.05
          },
          "xaxis": {
           "automargin": true,
           "gridcolor": "white",
           "linecolor": "white",
           "ticks": "",
           "title": {
            "standoff": 15
           },
           "zerolinecolor": "white",
           "zerolinewidth": 2
          },
          "yaxis": {
           "automargin": true,
           "gridcolor": "white",
           "linecolor": "white",
           "ticks": "",
           "title": {
            "standoff": 15
           },
           "zerolinecolor": "white",
           "zerolinewidth": 2
          }
         }
        },
        "title": {
         "text": "Ventas por tipos de servicio"
        },
        "xaxis": {
         "anchor": "y",
         "domain": [
          0,
          1
         ],
         "title": {
          "text": "Anualidad"
         }
        },
        "yaxis": {
         "anchor": "x",
         "domain": [
          0,
          1
         ],
         "title": {
          "text": "Importeprevisto"
         }
        }
       }
      }
     },
     "metadata": {},
     "output_type": "display_data"
    }
   ],
   "source": [
    "import plotly.express as px\n",
    "\n",
    "\n",
    "grouped = tipo_servicio.groupby(['Tiposdeservicio', 'Anualidad'])['Importeprevisto'].sum().reset_index()\n",
    "\n",
    "\n",
    "fig = px.bar(tipo_servicio, x=\"Anualidad\", y=\"Importeprevisto\", color=\"Tiposdeservicio\", title=\"Ventas por tipos de servicio\", text=\"Tiposdeservicio\")\n",
    "\n",
    "\n",
    "fig.show()"
   ]
  }
 ],
 "metadata": {
  "kernelspec": {
   "display_name": "presentador",
   "language": "python",
   "name": "python3"
  },
  "language_info": {
   "codemirror_mode": {
    "name": "ipython",
    "version": 3
   },
   "file_extension": ".py",
   "mimetype": "text/x-python",
   "name": "python",
   "nbconvert_exporter": "python",
   "pygments_lexer": "ipython3",
   "version": "3.11.3"
  },
  "orig_nbformat": 4
 },
 "nbformat": 4,
 "nbformat_minor": 2
}
